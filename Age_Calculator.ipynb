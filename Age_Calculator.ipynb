{
  "nbformat": 4,
  "nbformat_minor": 0,
  "metadata": {
    "colab": {
      "provenance": [],
      "authorship_tag": "ABX9TyNAumR5F1aE5wOhbYx3Tsqv",
      "include_colab_link": true
    },
    "kernelspec": {
      "name": "python3",
      "display_name": "Python 3"
    },
    "language_info": {
      "name": "python"
    }
  },
  "cells": [
    {
      "cell_type": "markdown",
      "metadata": {
        "id": "view-in-github",
        "colab_type": "text"
      },
      "source": [
        "<a href=\"https://colab.research.google.com/github/Guessit99/BankAuthSystem/blob/main/Age_Calculator.ipynb\" target=\"_parent\"><img src=\"https://colab.research.google.com/assets/colab-badge.svg\" alt=\"Open In Colab\"/></a>"
      ]
    },
    {
      "cell_type": "code",
      "execution_count": null,
      "metadata": {
        "id": "WXNKyp_iF7vj"
      },
      "outputs": [],
      "source": [
        "from datetime import date\n",
        "\n",
        "class Person:\n",
        "    def __init__(self, name, country, dob):\n",
        "        self.name = name\n",
        "        self.country = country\n",
        "        self.dob = dob\n",
        "\n",
        "    def calculate_age(self, current_date):\n",
        "        birth_year, birth_month, birth_day = map(int, self.dob.split('-'))\n",
        "        current_year, current_month, current_day = map(int, current_date.split('-'))\n",
        "\n",
        "        age = current_year - birth_year - ((current_month, current_day) < (birth_month, birth_day))\n",
        "        return age\n",
        "\n",
        "def main():\n",
        "\n",
        "    name = input(\"Enter the person's name: \")\n",
        "    country = input(\"Enter the person's country: \")\n",
        "    dob = input(\"Enter the person's date of birth (YYYY-MM-DD): \")\n",
        "\n",
        "\n",
        "    current_date = date.today()\n",
        "    current_date_str = current_date.strftime(\"%Y-%m-%d\")\n",
        "\n",
        "\n",
        "    person = Person(name, country, dob)\n",
        "\n",
        "\n",
        "    age = person.calculate_age(current_date_str)\n",
        "\n",
        "\n",
        "    print(f\"\\nName: {person.name}\")\n",
        "    print(f\"Country: {person.country}\")\n",
        "    print(f\"Date of Birth: {person.dob}\")\n",
        "    print(f\"Age: {age} years\")\n",
        "\n",
        "if __name__ == \"__main__\":\n",
        "    main()\n"
      ]
    },
    {
      "cell_type": "code",
      "source": [],
      "metadata": {
        "id": "_HjO3tn3H7Qw"
      },
      "execution_count": null,
      "outputs": []
    }
  ]
}